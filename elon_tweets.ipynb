{
 "cells": [
  {
   "cell_type": "code",
   "execution_count": 1,
   "metadata": {},
   "outputs": [],
   "source": [
    "import requests # necessary for accessing API\n",
    "import numpy as np\n",
    "import pandas as pd\n",
    "import seaborn as sns\n",
    "import matplotlib.pyplot as plt\n",
    "from datetime import datetime, date, timedelta\n",
    "import GetOldTweets3 as got # useful for accessing tweet history"
   ]
  },
  {
   "cell_type": "markdown",
   "metadata": {},
   "source": [
    "# Elon's Tweet Effect on Tesla’s Stock Price - Technical Write Up"
   ]
  },
  {
   "cell_type": "markdown",
   "metadata": {},
   "source": [
    "<img src=\"./images/gigafactory.jpg\" align = 'left' alt=\"tingo\" width=\"400\"/>"
   ]
  },
  {
   "cell_type": "markdown",
   "metadata": {},
   "source": [
    "### Google Slide Deck\n",
    "https://docs.google.com/presentation/d/1gz360drOLdCrFkm2v27fgX88dSv8tpL5zlFuLv7dACg/"
   ]
  },
  {
   "cell_type": "markdown",
   "metadata": {},
   "source": [
    "## Executive Summary:\n",
    "On August 7th, 2018, Tesla CEO Elon Musk tweeted that had secured funding to take Tesla private at 420 dollars per share.  This price estimate was much higher than the price 341 dollars per share thus leading investors to drive up the price based on the assumption that the shares would be worth 420 dollars per share.\n",
    "\n",
    "It was later revelaed that Musk may overstated his level certainty when it came to the buyout offer (which never materialized) which then lead the US Securities and Exchange Commission to investgate Musk for securities fraud.\n",
    "\n",
    "The SEC, in a settlment with Musk agreed to have someone from Tesla monitor the CEO's tweets.  A subsequent settlement clarified the topics Musk was forbidden from tweeting about.\n",
    "\n",
    "https://www.sec.gov/news/press-release/2018-226\n",
    "\n",
    "https://www.washingtonpost.com/technology/2019/04/26/elon-musk-sec-resolve-dispute-over-teslas-ceos-tweets/\n",
    "\n",
    "### Plan of Action:\n",
    "Construct a model for the board of directors to assist in the tweet screening process, per the SEC settlment.\n",
    "### Justification for Building NLP Model:\n",
    "ELon Musk is notoriously difficult to manage and may not take well to being reigned in by the board. But we know that he likes science so if we prove to him that a tweet is too risky, he may be more likely to adhere the terms of the settlement."
   ]
  },
  {
   "cell_type": "markdown",
   "metadata": {},
   "source": [
    "### Problem Statement: Does Elon Musk's tweets be an accurate predictor of Tesla's stock price volatility and will build a model to predict the probability that a Musk tweet coincides with a 3 percent or more gain or loss in stock price."
   ]
  },
  {
   "cell_type": "markdown",
   "metadata": {},
   "source": [
    "### Data Source - Twitter & GetOldTweets Python Package\n",
    "I used the Python package GetOldTweets to aquire tweet text from Elon Musk's twitter account. I extracted the date and text information and stored that data in a .csv file"
   ]
  },
  {
   "cell_type": "code",
   "execution_count": 2,
   "metadata": {},
   "outputs": [],
   "source": [
    "# tweetCriteria = got.manager.TweetCriteria().setUsername(\"elonmusk\").setMaxTweets(60000) # acquiring the tweets\n",
    "# tweet = got.manager.TweetManager.getTweets(tweetCriteria)"
   ]
  },
  {
   "cell_type": "code",
   "execution_count": 3,
   "metadata": {},
   "outputs": [],
   "source": [
    "# elon = []\n",
    "# for i in range(len(tweet)):\n",
    "   # dict = {}\n",
    "   # dict['date'] = tweet[i].date\n",
    "   # dict['tweet'] = tweet[i].text\n",
    "    \n",
    "   # elon.append(dict)"
   ]
  },
  {
   "cell_type": "code",
   "execution_count": 4,
   "metadata": {},
   "outputs": [],
   "source": [
    "# elon_musk = pd.DataFrame(elon)\n",
    "# elon_musk['date'] = elon_musk['date'].astype('str')\n",
    "# elon_musk['date'] = elon_musk['date'].str[:10]\n",
    "# elon_musk['date'] = pd.to_datetime(elon_musk['date'])\n",
    "# elon_musk.to_csv('elon.csv', index = False)"
   ]
  },
  {
   "cell_type": "markdown",
   "metadata": {},
   "source": [
    "### Data Source - Tiingo API\n",
    "There's a great website for stock price information called https://www.tiingo.com/ that I used to aquire all of Tesla's stock price information."
   ]
  },
  {
   "cell_type": "code",
   "execution_count": 5,
   "metadata": {},
   "outputs": [],
   "source": [
    "#header for the API call\n",
    "headers = {\n",
    "    'Content-Type': 'application/json'\n",
    "}"
   ]
  },
  {
   "cell_type": "code",
   "execution_count": 6,
   "metadata": {},
   "outputs": [],
   "source": [
    "#setting up the parameters variables for the Tiingo API\n",
    "start = str(pd.to_datetime(datetime.now() + timedelta(weeks = -15), format='%Y-%m-%d'))[:10] # setting up date range\n",
    "stop = str(pd.to_datetime(datetime.today(), format='%Y-%m-%d'))[:10] # using [:10] to subset string\n",
    "date_range = pd.date_range(start = start, end = stop) # date range"
   ]
  },
  {
   "cell_type": "code",
   "execution_count": 7,
   "metadata": {},
   "outputs": [],
   "source": [
    "#grabbing the stock price information for Tiingo.com\n",
    "tickers = 'tsla'\n",
    "startDate = '2010-01-01'\n",
    "endDate = stop\n",
    "token = '7471448cb0d6ac0ee714d622d7cada65b28a552e'\n",
    "url = str(f\"https://api.tiingo.com/tiingo/daily/{tickers}/prices?&startDate={startDate}&endDate={endDate}&token={token}\")\n",
    "\n",
    "#this is an example of how to filter news story by ticker\n",
    "requestResponse = requests.get(url,\n",
    "                              headers=headers)"
   ]
  },
  {
   "cell_type": "code",
   "execution_count": 8,
   "metadata": {},
   "outputs": [],
   "source": [
    "test_price = pd.DataFrame(requestResponse.json()) # requesting data"
   ]
  },
  {
   "cell_type": "code",
   "execution_count": 9,
   "metadata": {},
   "outputs": [],
   "source": [
    "test_price['date'] = test_price['date'].str[:10]  # cleaning up data setting up proper date format\n",
    "test_price['date'] = pd.to_datetime(test_price['date'], format='%Y-%m-%d')\n",
    "test_price.set_index('date', inplace = True)"
   ]
  },
  {
   "cell_type": "code",
   "execution_count": 10,
   "metadata": {},
   "outputs": [
    {
     "data": {
      "text/html": [
       "<div>\n",
       "<style scoped>\n",
       "    .dataframe tbody tr th:only-of-type {\n",
       "        vertical-align: middle;\n",
       "    }\n",
       "\n",
       "    .dataframe tbody tr th {\n",
       "        vertical-align: top;\n",
       "    }\n",
       "\n",
       "    .dataframe thead th {\n",
       "        text-align: right;\n",
       "    }\n",
       "</style>\n",
       "<table border=\"1\" class=\"dataframe\">\n",
       "  <thead>\n",
       "    <tr style=\"text-align: right;\">\n",
       "      <th></th>\n",
       "      <th>close</th>\n",
       "      <th>high</th>\n",
       "      <th>low</th>\n",
       "      <th>open</th>\n",
       "      <th>volume</th>\n",
       "      <th>adjClose</th>\n",
       "      <th>adjHigh</th>\n",
       "      <th>adjLow</th>\n",
       "      <th>adjOpen</th>\n",
       "      <th>adjVolume</th>\n",
       "      <th>divCash</th>\n",
       "      <th>splitFactor</th>\n",
       "    </tr>\n",
       "    <tr>\n",
       "      <th>date</th>\n",
       "      <th></th>\n",
       "      <th></th>\n",
       "      <th></th>\n",
       "      <th></th>\n",
       "      <th></th>\n",
       "      <th></th>\n",
       "      <th></th>\n",
       "      <th></th>\n",
       "      <th></th>\n",
       "      <th></th>\n",
       "      <th></th>\n",
       "      <th></th>\n",
       "    </tr>\n",
       "  </thead>\n",
       "  <tbody>\n",
       "    <tr>\n",
       "      <th>2010-06-29</th>\n",
       "      <td>23.89</td>\n",
       "      <td>25.0000</td>\n",
       "      <td>17.54</td>\n",
       "      <td>19.00</td>\n",
       "      <td>18766300</td>\n",
       "      <td>23.89</td>\n",
       "      <td>25.0000</td>\n",
       "      <td>17.54</td>\n",
       "      <td>19.00</td>\n",
       "      <td>18766300</td>\n",
       "      <td>0.0</td>\n",
       "      <td>1.0</td>\n",
       "    </tr>\n",
       "    <tr>\n",
       "      <th>2010-06-30</th>\n",
       "      <td>23.83</td>\n",
       "      <td>30.4192</td>\n",
       "      <td>23.30</td>\n",
       "      <td>25.79</td>\n",
       "      <td>17187100</td>\n",
       "      <td>23.83</td>\n",
       "      <td>30.4192</td>\n",
       "      <td>23.30</td>\n",
       "      <td>25.79</td>\n",
       "      <td>17187100</td>\n",
       "      <td>0.0</td>\n",
       "      <td>1.0</td>\n",
       "    </tr>\n",
       "    <tr>\n",
       "      <th>2010-07-01</th>\n",
       "      <td>21.96</td>\n",
       "      <td>25.9200</td>\n",
       "      <td>20.27</td>\n",
       "      <td>25.00</td>\n",
       "      <td>8218800</td>\n",
       "      <td>21.96</td>\n",
       "      <td>25.9200</td>\n",
       "      <td>20.27</td>\n",
       "      <td>25.00</td>\n",
       "      <td>8218800</td>\n",
       "      <td>0.0</td>\n",
       "      <td>1.0</td>\n",
       "    </tr>\n",
       "    <tr>\n",
       "      <th>2010-07-02</th>\n",
       "      <td>19.20</td>\n",
       "      <td>23.1000</td>\n",
       "      <td>18.71</td>\n",
       "      <td>23.00</td>\n",
       "      <td>5139800</td>\n",
       "      <td>19.20</td>\n",
       "      <td>23.1000</td>\n",
       "      <td>18.71</td>\n",
       "      <td>23.00</td>\n",
       "      <td>5139800</td>\n",
       "      <td>0.0</td>\n",
       "      <td>1.0</td>\n",
       "    </tr>\n",
       "    <tr>\n",
       "      <th>2010-07-06</th>\n",
       "      <td>16.11</td>\n",
       "      <td>20.0000</td>\n",
       "      <td>15.83</td>\n",
       "      <td>20.00</td>\n",
       "      <td>6866900</td>\n",
       "      <td>16.11</td>\n",
       "      <td>20.0000</td>\n",
       "      <td>15.83</td>\n",
       "      <td>20.00</td>\n",
       "      <td>6866900</td>\n",
       "      <td>0.0</td>\n",
       "      <td>1.0</td>\n",
       "    </tr>\n",
       "  </tbody>\n",
       "</table>\n",
       "</div>"
      ],
      "text/plain": [
       "            close     high    low   open    volume  adjClose  adjHigh  adjLow  \\\n",
       "date                                                                            \n",
       "2010-06-29  23.89  25.0000  17.54  19.00  18766300     23.89  25.0000   17.54   \n",
       "2010-06-30  23.83  30.4192  23.30  25.79  17187100     23.83  30.4192   23.30   \n",
       "2010-07-01  21.96  25.9200  20.27  25.00   8218800     21.96  25.9200   20.27   \n",
       "2010-07-02  19.20  23.1000  18.71  23.00   5139800     19.20  23.1000   18.71   \n",
       "2010-07-06  16.11  20.0000  15.83  20.00   6866900     16.11  20.0000   15.83   \n",
       "\n",
       "            adjOpen  adjVolume  divCash  splitFactor  \n",
       "date                                                  \n",
       "2010-06-29    19.00   18766300      0.0          1.0  \n",
       "2010-06-30    25.79   17187100      0.0          1.0  \n",
       "2010-07-01    25.00    8218800      0.0          1.0  \n",
       "2010-07-02    23.00    5139800      0.0          1.0  \n",
       "2010-07-06    20.00    6866900      0.0          1.0  "
      ]
     },
     "execution_count": 10,
     "metadata": {},
     "output_type": "execute_result"
    }
   ],
   "source": [
    "test_price.head() # data check"
   ]
  },
  {
   "cell_type": "code",
   "execution_count": 11,
   "metadata": {},
   "outputs": [
    {
     "data": {
      "text/html": [
       "<div>\n",
       "<style scoped>\n",
       "    .dataframe tbody tr th:only-of-type {\n",
       "        vertical-align: middle;\n",
       "    }\n",
       "\n",
       "    .dataframe tbody tr th {\n",
       "        vertical-align: top;\n",
       "    }\n",
       "\n",
       "    .dataframe thead th {\n",
       "        text-align: right;\n",
       "    }\n",
       "</style>\n",
       "<table border=\"1\" class=\"dataframe\">\n",
       "  <thead>\n",
       "    <tr style=\"text-align: right;\">\n",
       "      <th></th>\n",
       "      <th>vol</th>\n",
       "    </tr>\n",
       "    <tr>\n",
       "      <th>date</th>\n",
       "      <th></th>\n",
       "    </tr>\n",
       "  </thead>\n",
       "  <tbody>\n",
       "    <tr>\n",
       "      <th>2010-06-29</th>\n",
       "      <td>1</td>\n",
       "    </tr>\n",
       "    <tr>\n",
       "      <th>2010-06-30</th>\n",
       "      <td>0</td>\n",
       "    </tr>\n",
       "    <tr>\n",
       "      <th>2010-07-01</th>\n",
       "      <td>1</td>\n",
       "    </tr>\n",
       "    <tr>\n",
       "      <th>2010-07-02</th>\n",
       "      <td>1</td>\n",
       "    </tr>\n",
       "    <tr>\n",
       "      <th>2010-07-06</th>\n",
       "      <td>1</td>\n",
       "    </tr>\n",
       "  </tbody>\n",
       "</table>\n",
       "</div>"
      ],
      "text/plain": [
       "            vol\n",
       "date           \n",
       "2010-06-29    1\n",
       "2010-06-30    0\n",
       "2010-07-01    1\n",
       "2010-07-02    1\n",
       "2010-07-06    1"
      ]
     },
     "execution_count": 11,
     "metadata": {},
     "output_type": "execute_result"
    }
   ],
   "source": [
    "# creating target variable\n",
    "test_price['vol'] = (abs((test_price['open']-test_price['close'])/test_price['open']) > 0.08).astype(int) \n",
    "test_price[['vol']].head() # data check"
   ]
  },
  {
   "cell_type": "code",
   "execution_count": null,
   "metadata": {},
   "outputs": [],
   "source": []
  },
  {
   "cell_type": "code",
   "execution_count": 12,
   "metadata": {},
   "outputs": [],
   "source": [
    "test_price.to_csv('price.csv', index = True)"
   ]
  },
  {
   "cell_type": "markdown",
   "metadata": {},
   "source": [
    "# Merging & Formating Data Sources\n",
    "Because grabbing the stock market data requires an API and because GetOldTweets takes a long time to run, I've decided to save the most recent pull into an external .csv file that I'll merge in the next step.\n",
    "\n",
    "Other than that I didn't really have to do much data transformation. As you'll see before I did have to resample my time series data to get a dataset that was easier to map on a time series plot."
   ]
  },
  {
   "cell_type": "code",
   "execution_count": 13,
   "metadata": {},
   "outputs": [],
   "source": [
    "elon_musk = pd.read_csv('elon.csv')\n",
    "test_price = pd.read_csv('price.csv')"
   ]
  },
  {
   "cell_type": "code",
   "execution_count": 14,
   "metadata": {},
   "outputs": [],
   "source": [
    "elon_musk['date'] = pd.to_datetime(elon_musk['date'])\n",
    "test_price['date'] = pd.to_datetime(test_price['date'])"
   ]
  },
  {
   "cell_type": "code",
   "execution_count": 15,
   "metadata": {},
   "outputs": [
    {
     "data": {
      "text/plain": [
       "0    5926\n",
       "1     103\n",
       "Name: vol, dtype: int64"
      ]
     },
     "execution_count": 15,
     "metadata": {},
     "output_type": "execute_result"
    }
   ],
   "source": [
    "df = pd.merge(elon_musk, # merging two data frames to create a data frame that has news items associated with whether or not the\n",
    "              test_price, # S&P 500 went up or down that day\n",
    "              how = 'inner', \n",
    "              left_on = 'date',\n",
    "              right_on = 'date')[['date', 'tweet', 'vol']]\n",
    "df['vol'].value_counts() # checking on class imbalance"
   ]
  },
  {
   "cell_type": "code",
   "execution_count": 16,
   "metadata": {},
   "outputs": [],
   "source": [
    "# resampling the volatility data into a format that is easier to chart\n",
    "resampled = test_price.set_index('date').resample('Q').mean()"
   ]
  },
  {
   "cell_type": "code",
   "execution_count": 17,
   "metadata": {},
   "outputs": [
    {
     "data": {
      "image/png": "[encoded data removed]",
      "text/plain": [
       "<Figure size 432x288 with 1 Axes>"
      ]
     },
     "metadata": {
      "needs_background": "light"
     },
     "output_type": "display_data"
    }
   ],
   "source": [
    "# my first crack at plotting out a so called volatility score\n",
    "# volatility score is the average 0 to 1 binary classification\n",
    "sns.lineplot(x = resampled.index, y = 'vol', data = resampled, color = 'blue')\n",
    "plt.ylabel('Average Volatility Score')\n",
    "plt.xlabel('Date (Quarter)')\n",
    "plt.title('Average Volatility Score Over All Quarters');"
   ]
  },
  {
   "cell_type": "code",
   "execution_count": 18,
   "metadata": {},
   "outputs": [],
   "source": [
    "elon_musk['date'] = pd.to_datetime(elon_musk['date'])\n",
    "elon_musk = elon_musk.set_index('date')"
   ]
  },
  {
   "cell_type": "code",
   "execution_count": 19,
   "metadata": {},
   "outputs": [
    {
     "data": {
      "text/html": [
       "<div>\n",
       "<style scoped>\n",
       "    .dataframe tbody tr th:only-of-type {\n",
       "        vertical-align: middle;\n",
       "    }\n",
       "\n",
       "    .dataframe tbody tr th {\n",
       "        vertical-align: top;\n",
       "    }\n",
       "\n",
       "    .dataframe thead th {\n",
       "        text-align: right;\n",
       "    }\n",
       "</style>\n",
       "<table border=\"1\" class=\"dataframe\">\n",
       "  <thead>\n",
       "    <tr style=\"text-align: right;\">\n",
       "      <th></th>\n",
       "      <th>tweet</th>\n",
       "    </tr>\n",
       "    <tr>\n",
       "      <th>date</th>\n",
       "      <th></th>\n",
       "    </tr>\n",
       "  </thead>\n",
       "  <tbody>\n",
       "    <tr>\n",
       "      <th>2010-06-30</th>\n",
       "      <td>1</td>\n",
       "    </tr>\n",
       "    <tr>\n",
       "      <th>2010-09-30</th>\n",
       "      <td>0</td>\n",
       "    </tr>\n",
       "    <tr>\n",
       "      <th>2010-12-31</th>\n",
       "      <td>0</td>\n",
       "    </tr>\n",
       "    <tr>\n",
       "      <th>2011-03-31</th>\n",
       "      <td>0</td>\n",
       "    </tr>\n",
       "    <tr>\n",
       "      <th>2011-06-30</th>\n",
       "      <td>0</td>\n",
       "    </tr>\n",
       "  </tbody>\n",
       "</table>\n",
       "</div>"
      ],
      "text/plain": [
       "            tweet\n",
       "date             \n",
       "2010-06-30      1\n",
       "2010-09-30      0\n",
       "2010-12-31      0\n",
       "2011-03-31      0\n",
       "2011-06-30      0"
      ]
     },
     "execution_count": 19,
     "metadata": {},
     "output_type": "execute_result"
    }
   ],
   "source": [
    "tweet_graph = elon_musk.resample('Q').count()\n",
    "tweet_graph.head()"
   ]
  },
  {
   "cell_type": "code",
   "execution_count": 20,
   "metadata": {},
   "outputs": [
    {
     "data": {
      "image/png": "[encoded data removed]",
      "text/plain": [
       "<Figure size 432x288 with 1 Axes>"
      ]
     },
     "metadata": {
      "needs_background": "light"
     },
     "output_type": "display_data"
    }
   ],
   "source": [
    "sns.lineplot(x = tweet_graph.index, y = 'tweet', data = tweet_graph, color = 'red')\n",
    "plt.ylabel('Number of Tweets')\n",
    "plt.xlabel('Date (Quarter)')\n",
    "plt.title('Number of Elon Musk Tweets Per Quarter');"
   ]
  },
  {
   "cell_type": "code",
   "execution_count": null,
   "metadata": {},
   "outputs": [],
   "source": []
  },
  {
   "cell_type": "code",
   "execution_count": 21,
   "metadata": {},
   "outputs": [
    {
     "data": {
      "text/plain": [
       "(6029, 3)"
      ]
     },
     "execution_count": 21,
     "metadata": {},
     "output_type": "execute_result"
    }
   ],
   "source": [
    "df.shape"
   ]
  },
  {
   "cell_type": "code",
   "execution_count": 22,
   "metadata": {},
   "outputs": [],
   "source": [
    "# generating the correct value to rebalance the class\n",
    "diff = df['vol'].value_counts()[0]-df['vol'].value_counts()[1]"
   ]
  },
  {
   "cell_type": "markdown",
   "metadata": {},
   "source": [
    "# Model Selection\n",
    "Justification: I decided to choose a binary classification model, (0 Tesla's stock price doesn't move less than 3 percent in one day or 1 Tesla's stock price does move more than 3 percent in one day) because I thought it would be a metric that would be easier to interpert and predict.\n",
    "\n",
    "I chose the random forest classifier model because it's the one that performed the best while iterating through multiple models."
   ]
  },
  {
   "cell_type": "code",
   "execution_count": 23,
   "metadata": {},
   "outputs": [],
   "source": [
    "# import modling packages\n",
    "from sklearn.model_selection import train_test_split, GridSearchCV, RandomizedSearchCV\n",
    "from sklearn.feature_extraction.text import CountVectorizer, TfidfVectorizer\n",
    "from sklearn.ensemble import RandomForestClassifier\n",
    "from sklearn.pipeline import Pipeline\n",
    "from sklearn.metrics import roc_curve, precision_recall_curve, auc, make_scorer, recall_score,\\\n",
    "                            accuracy_score, precision_score, confusion_matrix, roc_auc_score, classification_report"
   ]
  },
  {
   "cell_type": "code",
   "execution_count": 24,
   "metadata": {},
   "outputs": [],
   "source": [
    "# bootstrapping\n",
    "gain = df[df['vol'] == 1]\n",
    "\n",
    "bootstrap = gain.sample(n=diff, \n",
    "                           replace=True,\n",
    "                           random_state=42\n",
    "                           )\n",
    "df = pd.concat([df, bootstrap])"
   ]
  },
  {
   "cell_type": "code",
   "execution_count": 25,
   "metadata": {},
   "outputs": [
    {
     "data": {
      "text/plain": [
       "(11852, 3)"
      ]
     },
     "execution_count": 25,
     "metadata": {},
     "output_type": "execute_result"
    }
   ],
   "source": [
    "df.shape"
   ]
  },
  {
   "cell_type": "code",
   "execution_count": 26,
   "metadata": {},
   "outputs": [],
   "source": [
    "# setting up X and y variable\n",
    "X = df['tweet'].astype(str) # can't explain why but this fixes an error caused when fitting the model\n",
    "y = df['vol'].astype(np.int32)"
   ]
  },
  {
   "cell_type": "code",
   "execution_count": 27,
   "metadata": {},
   "outputs": [],
   "source": [
    "# train test split\n",
    "X_train, X_test, y_train, y_test = train_test_split(X,\n",
    "                                                    y,\n",
    "                                                    test_size=0.33,\n",
    "                                                    random_state=29)"
   ]
  },
  {
   "cell_type": "code",
   "execution_count": 28,
   "metadata": {},
   "outputs": [],
   "source": [
    "# pipeline\n",
    "pipe = Pipeline([ \n",
    "    ('cvec', TfidfVectorizer(stop_words = 'english' )),\n",
    "    ('rf', (RandomForestClassifier()))  # setting up pipeline\n",
    "])"
   ]
  },
  {
   "cell_type": "markdown",
   "metadata": {},
   "source": [
    "# Setting Up Hyper Parameters\n",
    "There weren't too many hyper parameters for me to test. I iterated through multple selections of max features and ngrams before I landed on the current configuration."
   ]
  },
  {
   "cell_type": "code",
   "execution_count": 29,
   "metadata": {},
   "outputs": [],
   "source": [
    "# setting up parameters for grid search\n",
    "pipe_params = {\n",
    "    'cvec__max_features' : [4000], # pipe parameters\n",
    "    'cvec__min_df' : [2],\n",
    "    'cvec__max_df' : [0.9],\n",
    "    'cvec__ngram_range' : [(1,2), (1,3)],\n",
    "    'rf__n_estimators' : [10]\n",
    "}"
   ]
  },
  {
   "cell_type": "code",
   "execution_count": 30,
   "metadata": {},
   "outputs": [],
   "source": [
    "# grid search\n",
    "gs = GridSearchCV(pipe,\n",
    "                  pipe_params, # setting up grid search\n",
    "                  cv = 5,\n",
    "                  n_jobs = 8)"
   ]
  },
  {
   "cell_type": "markdown",
   "metadata": {},
   "source": [
    "# And Let's Fit the Model"
   ]
  },
  {
   "cell_type": "code",
   "execution_count": 31,
   "metadata": {},
   "outputs": [],
   "source": [
    "# fitting the model\n",
    "gs.fit(X_train, y_train); # fitting the model"
   ]
  },
  {
   "cell_type": "code",
   "execution_count": 32,
   "metadata": {},
   "outputs": [
    {
     "name": "stdout",
     "output_type": "stream",
     "text": [
      "Train score is 0.9667506297229219\n",
      "Test score is 0.962678936605317\n",
      "Score diff is -0.004071693117604913\n"
     ]
    }
   ],
   "source": [
    "# getting the scores\n",
    "print(f'Train score is {gs.score(X_train, y_train)}') # scoring\n",
    "print(f'Test score is {gs.score(X_test, y_test)}')    # nice looks like there's no overfitting\n",
    "print(f'Score diff is {gs.score(X_test, y_test) - gs.score(X_train, y_train)}')"
   ]
  },
  {
   "cell_type": "markdown",
   "metadata": {},
   "source": [
    "#### Looks like the model performed fairly well considering the difficulty of the task."
   ]
  },
  {
   "cell_type": "code",
   "execution_count": 33,
   "metadata": {},
   "outputs": [],
   "source": [
    "proba = pd.DataFrame(gs.predict_proba(X_test))"
   ]
  },
  {
   "cell_type": "code",
   "execution_count": 34,
   "metadata": {},
   "outputs": [],
   "source": [
    "tweet_screener = pd.merge(X_test, proba, how = 'inner', left_on = X_test.index, right_on = proba.index)[['tweet', 0, 1]]"
   ]
  },
  {
   "cell_type": "code",
   "execution_count": 35,
   "metadata": {},
   "outputs": [],
   "source": [
    "tweet_screener.to_csv('tweet_screener.csv', index = False)\n",
    "tweet_screener.rename(columns = {'tweet':'tweet', 0:'low_risk_tweet', 1:'risky_tweet'},inplace = True)"
   ]
  },
  {
   "cell_type": "markdown",
   "metadata": {},
   "source": [
    "# Beta Testing the Predict Tweet Feature\n",
    "Run the cell below and you'll see the predicted likelyhood that the tweet accurately predicted a swing of 3 percent in the stock price."
   ]
  },
  {
   "cell_type": "markdown",
   "metadata": {},
   "source": [
    "<img src=\"./images/wind.jpg\" align = 'left' alt=\"tingo\" width=\"400\"/>"
   ]
  },
  {
   "cell_type": "code",
   "execution_count": 36,
   "metadata": {},
   "outputs": [
    {
     "name": "stderr",
     "output_type": "stream",
     "text": [
      "C:\\Users\\onomi\\Anaconda3\\lib\\site-packages\\ipykernel_launcher.py:1: FutureWarning: Passing a negative integer is deprecated in version 1.0 and will not be supported in future version. Instead, use None to not limit the column width.\n",
      "  \"\"\"Entry point for launching an IPython kernel.\n"
     ]
    },
    {
     "data": {
      "text/html": [
       "<div>\n",
       "<style scoped>\n",
       "    .dataframe tbody tr th:only-of-type {\n",
       "        vertical-align: middle;\n",
       "    }\n",
       "\n",
       "    .dataframe tbody tr th {\n",
       "        vertical-align: top;\n",
       "    }\n",
       "\n",
       "    .dataframe thead th {\n",
       "        text-align: right;\n",
       "    }\n",
       "</style>\n",
       "<table border=\"1\" class=\"dataframe\">\n",
       "  <thead>\n",
       "    <tr style=\"text-align: right;\">\n",
       "      <th></th>\n",
       "      <th>tweet</th>\n",
       "      <th>low_risk_tweet</th>\n",
       "      <th>risky_tweet</th>\n",
       "    </tr>\n",
       "  </thead>\n",
       "  <tbody>\n",
       "    <tr>\n",
       "      <th>63</th>\n",
       "      <td>Yeah, it looks like a medieval torture device, but is nonetheless currently used in many human studies! Not hard to be way better.</td>\n",
       "      <td>1.0</td>\n",
       "      <td>0.0</td>\n",
       "    </tr>\n",
       "  </tbody>\n",
       "</table>\n",
       "</div>"
      ],
      "text/plain": [
       "                                                                                                                                 tweet  \\\n",
       "63  Yeah, it looks like a medieval torture device, but is nonetheless currently used in many human studies! Not hard to be way better.   \n",
       "\n",
       "    low_risk_tweet  risky_tweet  \n",
       "63  1.0             0.0          "
      ]
     },
     "execution_count": 36,
     "metadata": {},
     "output_type": "execute_result"
    }
   ],
   "source": [
    "pd.set_option('display.max_colwidth', -1)\n",
    "tweet_screener.sample()"
   ]
  },
  {
   "cell_type": "code",
   "execution_count": 37,
   "metadata": {},
   "outputs": [
    {
     "data": {
      "text/plain": [
       "{'cvec__max_df': 0.9,\n",
       " 'cvec__max_features': 4000,\n",
       " 'cvec__min_df': 2,\n",
       " 'cvec__ngram_range': (1, 3),\n",
       " 'rf__n_estimators': 10}"
      ]
     },
     "execution_count": 37,
     "metadata": {},
     "output_type": "execute_result"
    }
   ],
   "source": [
    "# what's the best parameters\n",
    "gs.best_params_"
   ]
  },
  {
   "cell_type": "code",
   "execution_count": 38,
   "metadata": {},
   "outputs": [
    {
     "data": {
      "text/html": [
       "<div>\n",
       "<style scoped>\n",
       "    .dataframe tbody tr th:only-of-type {\n",
       "        vertical-align: middle;\n",
       "    }\n",
       "\n",
       "    .dataframe tbody tr th {\n",
       "        vertical-align: top;\n",
       "    }\n",
       "\n",
       "    .dataframe thead th {\n",
       "        text-align: right;\n",
       "    }\n",
       "</style>\n",
       "<table border=\"1\" class=\"dataframe\">\n",
       "  <thead>\n",
       "    <tr style=\"text-align: right;\">\n",
       "      <th></th>\n",
       "      <th>predicted true</th>\n",
       "      <th>predicted false</th>\n",
       "    </tr>\n",
       "  </thead>\n",
       "  <tbody>\n",
       "    <tr>\n",
       "      <th>actual true</th>\n",
       "      <td>1854</td>\n",
       "      <td>80</td>\n",
       "    </tr>\n",
       "    <tr>\n",
       "      <th>actual false</th>\n",
       "      <td>66</td>\n",
       "      <td>1912</td>\n",
       "    </tr>\n",
       "  </tbody>\n",
       "</table>\n",
       "</div>"
      ],
      "text/plain": [
       "              predicted true  predicted false\n",
       "actual true   1854            80             \n",
       "actual false  66              1912           "
      ]
     },
     "execution_count": 38,
     "metadata": {},
     "output_type": "execute_result"
    }
   ],
   "source": [
    "# generating confusion matrix\n",
    "predict = gs.predict(X_test)\n",
    "confusion_matrix(y_test, predict)\n",
    "\n",
    "pd.DataFrame(confusion_matrix(y_test, predict), # confusion matrix\n",
    "             columns = ['predicted true', 'predicted false'],\n",
    "             index = ['actual true', 'actual false'])"
   ]
  },
  {
   "cell_type": "code",
   "execution_count": 39,
   "metadata": {},
   "outputs": [],
   "source": [
    "# prep to generating the ROC score\n",
    "predict = gs.predict(X_test)"
   ]
  },
  {
   "cell_type": "code",
   "execution_count": 40,
   "metadata": {},
   "outputs": [],
   "source": [
    "pred_proba = [i[1] for i in gs.predict_proba(X_test)] # taken from the lesson classificaiton metrics ii\n",
    "pred_df = pd.DataFrame({'true_values': y_test,  # because I honestly forgot how to do this all\n",
    "                        'pred_probs':pred_proba})"
   ]
  },
  {
   "cell_type": "code",
   "execution_count": 41,
   "metadata": {},
   "outputs": [
    {
     "data": {
      "text/plain": [
       "0.9946618072844724"
      ]
     },
     "execution_count": 41,
     "metadata": {},
     "output_type": "execute_result"
    }
   ],
   "source": [
    "# not too bad\n",
    "roc_auc_score(pred_df['true_values'], pred_df['pred_probs'])"
   ]
  },
  {
   "cell_type": "markdown",
   "metadata": {},
   "source": [
    "# Preliminary Conclusions\n",
    "Overall I'm fairly impressed with the model's ability to accurately predict a 3 percent swing in Telsa's stock price. Scientifically is it possible to say that X tweet caused y price jump or fall?  At a certain point a human on the board of directors should take over. \n",
    "\n",
    "With a few modifications this model can be applied to unseen Elon Musk tweets and provide a safety screen that the board could use as justification for nixing one of Musk's tweets that they already feel nervous about."
   ]
  },
  {
   "cell_type": "code",
   "execution_count": 42,
   "metadata": {},
   "outputs": [
    {
     "name": "stdout",
     "output_type": "stream",
     "text": [
      "              precision    recall  f1-score   support\n",
      "\n",
      "           0       0.97      0.96      0.96      1934\n",
      "           1       0.96      0.97      0.96      1978\n",
      "\n",
      "    accuracy                           0.96      3912\n",
      "   macro avg       0.96      0.96      0.96      3912\n",
      "weighted avg       0.96      0.96      0.96      3912\n",
      "\n"
     ]
    }
   ],
   "source": [
    "# classification report\n",
    "print(classification_report(y_test, predict))"
   ]
  },
  {
   "cell_type": "code",
   "execution_count": 43,
   "metadata": {},
   "outputs": [],
   "source": [
    "# setting up best estimator\n",
    "cvec = gs.best_estimator_.named_steps['cvec']\n",
    "fi = gs.best_estimator_.named_steps['rf'].feature_importances_ "
   ]
  },
  {
   "cell_type": "code",
   "execution_count": 44,
   "metadata": {},
   "outputs": [],
   "source": [
    "# prep for sparse dataframe\n",
    "X_train_raw = cvec.fit_transform(X_train)"
   ]
  },
  {
   "cell_type": "code",
   "execution_count": 45,
   "metadata": {},
   "outputs": [],
   "source": [
    "# sparse dataframe\n",
    "X_train_sp = pd.DataFrame.sparse.from_spmatrix(X_train_raw, columns=cvec.get_feature_names()) "
   ]
  },
  {
   "cell_type": "code",
   "execution_count": 46,
   "metadata": {},
   "outputs": [],
   "source": [
    "# features dataframe\n",
    "features_df = pd.DataFrame(fi, X_train_sp.columns, columns = ['importance'])"
   ]
  },
  {
   "cell_type": "code",
   "execution_count": 47,
   "metadata": {},
   "outputs": [],
   "source": [
    "# plotting\n",
    "barplot = features_df.sort_values(by = 'importance', ascending = False).head(10)"
   ]
  },
  {
   "cell_type": "markdown",
   "metadata": {},
   "source": [
    "# Feature Importance\n",
    "I would love to know why these words accurately predict a swing in Tesla's stock price.  Some of these words make sense but some of the predictive words seem vague."
   ]
  },
  {
   "cell_type": "code",
   "execution_count": 48,
   "metadata": {},
   "outputs": [
    {
     "data": {
      "image/png": "[encoded data removed]",
      "text/plain": [
       "<Figure size 432x288 with 1 Axes>"
      ]
     },
     "metadata": {
      "needs_background": "light"
     },
     "output_type": "display_data"
    }
   ],
   "source": [
    "# most predicted words\n",
    "sns.barplot(y = barplot.index, x = barplot['importance'], orient = 'h', palette=\"rocket\")\n",
    "plt.xlabel('Feature Importance')\n",
    "plt.ylabel('Words')\n",
    "plt.title('Most Predictive Words');"
   ]
  }
 ],
 "metadata": {
  "kernelspec": {
   "display_name": "Python 3",
   "language": "python",
   "name": "python3"
  },
  "language_info": {
   "codemirror_mode": {
    "name": "ipython",
    "version": 3
   },
   "file_extension": ".py",
   "mimetype": "text/x-python",
   "name": "python",
   "nbconvert_exporter": "python",
   "pygments_lexer": "ipython3",
   "version": "3.7.6"
  }
 },
 "nbformat": 4,
 "nbformat_minor": 2
}
