{
 "cells": [
  {
   "cell_type": "code",
   "execution_count": 1,
   "metadata": {},
   "outputs": [],
   "source": [
    "import requests\n",
    "import pandas as pd\n",
    "import seaborn as sns\n",
    "import matplotlib.pyplot as plt\n",
    "from datetime import datetime, date, timedelta\n",
    "import GetOldTweets3 as got"
   ]
  },
  {
   "cell_type": "markdown",
   "metadata": {},
   "source": [
    "<img src=\"./images/musk.jpeg\" align = 'left' alt=\"tingo\" width=\"300\"/>"
   ]
  },
  {
   "cell_type": "markdown",
   "metadata": {},
   "source": [
    "# Get the Tweets\n",
    "Tweet code converted the cell to markdown so that we don't have to keep loading it."
   ]
  },
  {
   "cell_type": "markdown",
   "metadata": {},
   "source": [
    "tweetCriteria = got.manager.TweetCriteria().setUsername(\"elonmusk\").setMaxTweets(60000)\n",
    "tweet = got.manager.TweetManager.getTweets(tweetCriteria)"
   ]
  },
  {
   "cell_type": "markdown",
   "metadata": {},
   "source": [
    "elon = []\n",
    "for i in range(len(tweet)):\n",
    "    dict = {}\n",
    "    dict['date'] = tweet[i].date\n",
    "    dict['tweet'] = tweet[i].text\n",
    "    \n",
    "    elon.append(dict)"
   ]
  },
  {
   "cell_type": "markdown",
   "metadata": {},
   "source": [
    "elon_musk = pd.DataFrame(elon)"
   ]
  },
  {
   "cell_type": "markdown",
   "metadata": {},
   "source": [
    "elon_musk['date'] = elon_musk['date'].astype('str')\n",
    "elon_musk['date'] = elon_musk['date'].str[:10]\n",
    "elon_musk['date'] = pd.to_datetime(elon_musk['date'])"
   ]
  },
  {
   "cell_type": "markdown",
   "metadata": {},
   "source": [
    "elon_musk.to_csv('elon.csv', index = False)"
   ]
  },
  {
   "cell_type": "code",
   "execution_count": 2,
   "metadata": {},
   "outputs": [],
   "source": [
    "# reading in the saved tweet data\n",
    "elon_musk = pd.read_csv('elon.csv')\n",
    "elon_musk['date'] = pd.to_datetime(elon_musk['date'], format='%Y-%m-%d')\n",
    "elon_musk.dropna(inplace = True)"
   ]
  },
  {
   "cell_type": "markdown",
   "metadata": {},
   "source": [
    "# Get the Stock Prices"
   ]
  },
  {
   "cell_type": "code",
   "execution_count": 3,
   "metadata": {},
   "outputs": [],
   "source": [
    "# header for the API call\n",
    "headers = {\n",
    "    'Content-Type': 'application/json'\n",
    "}"
   ]
  },
  {
   "cell_type": "code",
   "execution_count": 4,
   "metadata": {},
   "outputs": [],
   "source": [
    "# setting up the parameters variables for the Tiingo API\n",
    "start = str(pd.to_datetime(datetime.now() + timedelta(weeks = -15), format='%Y-%m-%d'))[:10] # setting up date range\n",
    "stop = str(pd.to_datetime(datetime.today(), format='%Y-%m-%d'))[:10] # using [:10] to subset string\n",
    "date_range = pd.date_range(start = start, end = stop) # date range"
   ]
  },
  {
   "cell_type": "code",
   "execution_count": 5,
   "metadata": {},
   "outputs": [],
   "source": [
    "# grabbing the stock price information for the Vandguard S&P 500 ETF\n",
    "tickers = 'tsla'\n",
    "startDate = '2010-01-01'\n",
    "endDate = stop\n",
    "token = 'API Key'\n",
    "url = str(f\"https://api.tiingo.com/tiingo/daily/{tickers}/prices?&startDate={startDate}&endDate={endDate}&token={token}\")\n",
    "\n",
    "# this is an example of how to filter news story by ticker\n",
    "requestResponse = requests.get(url,\n",
    "                               headers=headers)"
   ]
  },
  {
   "cell_type": "code",
   "execution_count": 6,
   "metadata": {},
   "outputs": [],
   "source": [
    "test_price = pd.DataFrame(requestResponse.json()) # requesting data"
   ]
  },
  {
   "cell_type": "code",
   "execution_count": 7,
   "metadata": {},
   "outputs": [],
   "source": [
    "test_price['date'] = test_price['date'].str[:10]  # cleaning up data setting up proper date format\n",
    "test_price['date'] = pd.to_datetime(test_price['date'], format='%Y-%m-%d')\n",
    "test_price.set_index('date', inplace = True)"
   ]
  },
  {
   "cell_type": "code",
   "execution_count": 8,
   "metadata": {},
   "outputs": [
    {
     "data": {
      "text/html": [
       "<div>\n",
       "<style scoped>\n",
       "    .dataframe tbody tr th:only-of-type {\n",
       "        vertical-align: middle;\n",
       "    }\n",
       "\n",
       "    .dataframe tbody tr th {\n",
       "        vertical-align: top;\n",
       "    }\n",
       "\n",
       "    .dataframe thead th {\n",
       "        text-align: right;\n",
       "    }\n",
       "</style>\n",
       "<table border=\"1\" class=\"dataframe\">\n",
       "  <thead>\n",
       "    <tr style=\"text-align: right;\">\n",
       "      <th></th>\n",
       "      <th>close</th>\n",
       "      <th>high</th>\n",
       "      <th>low</th>\n",
       "      <th>open</th>\n",
       "      <th>volume</th>\n",
       "      <th>adjClose</th>\n",
       "      <th>adjHigh</th>\n",
       "      <th>adjLow</th>\n",
       "      <th>adjOpen</th>\n",
       "      <th>adjVolume</th>\n",
       "      <th>divCash</th>\n",
       "      <th>splitFactor</th>\n",
       "    </tr>\n",
       "    <tr>\n",
       "      <th>date</th>\n",
       "      <th></th>\n",
       "      <th></th>\n",
       "      <th></th>\n",
       "      <th></th>\n",
       "      <th></th>\n",
       "      <th></th>\n",
       "      <th></th>\n",
       "      <th></th>\n",
       "      <th></th>\n",
       "      <th></th>\n",
       "      <th></th>\n",
       "      <th></th>\n",
       "    </tr>\n",
       "  </thead>\n",
       "  <tbody>\n",
       "    <tr>\n",
       "      <th>2010-06-29</th>\n",
       "      <td>23.89</td>\n",
       "      <td>25.0000</td>\n",
       "      <td>17.54</td>\n",
       "      <td>19.00</td>\n",
       "      <td>18766300</td>\n",
       "      <td>23.89</td>\n",
       "      <td>25.0000</td>\n",
       "      <td>17.54</td>\n",
       "      <td>19.00</td>\n",
       "      <td>18766300</td>\n",
       "      <td>0.0</td>\n",
       "      <td>1.0</td>\n",
       "    </tr>\n",
       "    <tr>\n",
       "      <th>2010-06-30</th>\n",
       "      <td>23.83</td>\n",
       "      <td>30.4192</td>\n",
       "      <td>23.30</td>\n",
       "      <td>25.79</td>\n",
       "      <td>17187100</td>\n",
       "      <td>23.83</td>\n",
       "      <td>30.4192</td>\n",
       "      <td>23.30</td>\n",
       "      <td>25.79</td>\n",
       "      <td>17187100</td>\n",
       "      <td>0.0</td>\n",
       "      <td>1.0</td>\n",
       "    </tr>\n",
       "    <tr>\n",
       "      <th>2010-07-01</th>\n",
       "      <td>21.96</td>\n",
       "      <td>25.9200</td>\n",
       "      <td>20.27</td>\n",
       "      <td>25.00</td>\n",
       "      <td>8218800</td>\n",
       "      <td>21.96</td>\n",
       "      <td>25.9200</td>\n",
       "      <td>20.27</td>\n",
       "      <td>25.00</td>\n",
       "      <td>8218800</td>\n",
       "      <td>0.0</td>\n",
       "      <td>1.0</td>\n",
       "    </tr>\n",
       "    <tr>\n",
       "      <th>2010-07-02</th>\n",
       "      <td>19.20</td>\n",
       "      <td>23.1000</td>\n",
       "      <td>18.71</td>\n",
       "      <td>23.00</td>\n",
       "      <td>5139800</td>\n",
       "      <td>19.20</td>\n",
       "      <td>23.1000</td>\n",
       "      <td>18.71</td>\n",
       "      <td>23.00</td>\n",
       "      <td>5139800</td>\n",
       "      <td>0.0</td>\n",
       "      <td>1.0</td>\n",
       "    </tr>\n",
       "    <tr>\n",
       "      <th>2010-07-06</th>\n",
       "      <td>16.11</td>\n",
       "      <td>20.0000</td>\n",
       "      <td>15.83</td>\n",
       "      <td>20.00</td>\n",
       "      <td>6866900</td>\n",
       "      <td>16.11</td>\n",
       "      <td>20.0000</td>\n",
       "      <td>15.83</td>\n",
       "      <td>20.00</td>\n",
       "      <td>6866900</td>\n",
       "      <td>0.0</td>\n",
       "      <td>1.0</td>\n",
       "    </tr>\n",
       "  </tbody>\n",
       "</table>\n",
       "</div>"
      ],
      "text/plain": [
       "            close     high    low   open    volume  adjClose  adjHigh  adjLow  \\\n",
       "date                                                                            \n",
       "2010-06-29  23.89  25.0000  17.54  19.00  18766300     23.89  25.0000   17.54   \n",
       "2010-06-30  23.83  30.4192  23.30  25.79  17187100     23.83  30.4192   23.30   \n",
       "2010-07-01  21.96  25.9200  20.27  25.00   8218800     21.96  25.9200   20.27   \n",
       "2010-07-02  19.20  23.1000  18.71  23.00   5139800     19.20  23.1000   18.71   \n",
       "2010-07-06  16.11  20.0000  15.83  20.00   6866900     16.11  20.0000   15.83   \n",
       "\n",
       "            adjOpen  adjVolume  divCash  splitFactor  \n",
       "date                                                  \n",
       "2010-06-29    19.00   18766300      0.0          1.0  \n",
       "2010-06-30    25.79   17187100      0.0          1.0  \n",
       "2010-07-01    25.00    8218800      0.0          1.0  \n",
       "2010-07-02    23.00    5139800      0.0          1.0  \n",
       "2010-07-06    20.00    6866900      0.0          1.0  "
      ]
     },
     "execution_count": 8,
     "metadata": {},
     "output_type": "execute_result"
    }
   ],
   "source": [
    "test_price.head() # data check"
   ]
  },
  {
   "cell_type": "code",
   "execution_count": 9,
   "metadata": {},
   "outputs": [
    {
     "data": {
      "text/html": [
       "<div>\n",
       "<style scoped>\n",
       "    .dataframe tbody tr th:only-of-type {\n",
       "        vertical-align: middle;\n",
       "    }\n",
       "\n",
       "    .dataframe tbody tr th {\n",
       "        vertical-align: top;\n",
       "    }\n",
       "\n",
       "    .dataframe thead th {\n",
       "        text-align: right;\n",
       "    }\n",
       "</style>\n",
       "<table border=\"1\" class=\"dataframe\">\n",
       "  <thead>\n",
       "    <tr style=\"text-align: right;\">\n",
       "      <th></th>\n",
       "      <th>vol</th>\n",
       "    </tr>\n",
       "    <tr>\n",
       "      <th>date</th>\n",
       "      <th></th>\n",
       "    </tr>\n",
       "  </thead>\n",
       "  <tbody>\n",
       "    <tr>\n",
       "      <th>2010-06-29</th>\n",
       "      <td>1</td>\n",
       "    </tr>\n",
       "    <tr>\n",
       "      <th>2010-06-30</th>\n",
       "      <td>1</td>\n",
       "    </tr>\n",
       "    <tr>\n",
       "      <th>2010-07-01</th>\n",
       "      <td>1</td>\n",
       "    </tr>\n",
       "    <tr>\n",
       "      <th>2010-07-02</th>\n",
       "      <td>1</td>\n",
       "    </tr>\n",
       "    <tr>\n",
       "      <th>2010-07-06</th>\n",
       "      <td>1</td>\n",
       "    </tr>\n",
       "  </tbody>\n",
       "</table>\n",
       "</div>"
      ],
      "text/plain": [
       "            vol\n",
       "date           \n",
       "2010-06-29    1\n",
       "2010-06-30    1\n",
       "2010-07-01    1\n",
       "2010-07-02    1\n",
       "2010-07-06    1"
      ]
     },
     "execution_count": 9,
     "metadata": {},
     "output_type": "execute_result"
    }
   ],
   "source": [
    "# creating target variable\n",
    "test_price['vol'] = (abs((test_price['open']-test_price['close'])/test_price['open']) > 0.03).astype(int) \n",
    "test_price[['vol']].head() # data check"
   ]
  },
  {
   "cell_type": "markdown",
   "metadata": {},
   "source": [
    "# Merging DataFrames"
   ]
  },
  {
   "cell_type": "code",
   "execution_count": 10,
   "metadata": {},
   "outputs": [
    {
     "data": {
      "text/plain": [
       "0    4724\n",
       "1    1180\n",
       "Name: vol, dtype: int64"
      ]
     },
     "execution_count": 10,
     "metadata": {},
     "output_type": "execute_result"
    }
   ],
   "source": [
    "df = pd.merge(elon_musk, # merging two data frames to create a data frame that has news items associated with whether or not the\n",
    "              test_price, # S&P 500 went up or down that day\n",
    "              how = 'inner', \n",
    "              left_on = 'date',\n",
    "              right_on = 'date')[['date', 'tweet', 'vol']]\n",
    "df['vol'].value_counts() "
   ]
  },
  {
   "cell_type": "code",
   "execution_count": 11,
   "metadata": {},
   "outputs": [
    {
     "data": {
      "text/plain": [
       "(5904, 3)"
      ]
     },
     "execution_count": 11,
     "metadata": {},
     "output_type": "execute_result"
    }
   ],
   "source": [
    "df.shape"
   ]
  },
  {
   "cell_type": "code",
   "execution_count": 12,
   "metadata": {},
   "outputs": [],
   "source": [
    "# generating the value to rebalance the class\n",
    "diff = df['vol'].value_counts()[0]-df['vol'].value_counts()[1]"
   ]
  },
  {
   "cell_type": "markdown",
   "metadata": {},
   "source": [
    "# Modeling"
   ]
  },
  {
   "cell_type": "code",
   "execution_count": 13,
   "metadata": {},
   "outputs": [],
   "source": [
    "# import modling packages\n",
    "from sklearn.model_selection import train_test_split, GridSearchCV, RandomizedSearchCV\n",
    "from sklearn.feature_extraction.text import CountVectorizer, TfidfVectorizer\n",
    "from sklearn.ensemble import RandomForestClassifier\n",
    "from sklearn.pipeline import Pipeline\n",
    "from sklearn.metrics import roc_curve, precision_recall_curve, auc, make_scorer, recall_score,\\\n",
    "                            accuracy_score, precision_score, confusion_matrix, roc_auc_score, classification_report"
   ]
  },
  {
   "cell_type": "code",
   "execution_count": 14,
   "metadata": {},
   "outputs": [],
   "source": [
    "# bootstrapping\n",
    "gain = df[df['vol'] == 1]\n",
    "\n",
    "bootstrap = gain.sample(n=diff, \n",
    "                           replace=True,\n",
    "                           random_state=42\n",
    "                           )\n",
    "df = pd.concat([df, bootstrap])"
   ]
  },
  {
   "cell_type": "code",
   "execution_count": 15,
   "metadata": {},
   "outputs": [
    {
     "data": {
      "text/plain": [
       "date     0\n",
       "tweet    0\n",
       "vol      0\n",
       "dtype: int64"
      ]
     },
     "execution_count": 15,
     "metadata": {},
     "output_type": "execute_result"
    }
   ],
   "source": [
    "# checking for null values\n",
    "df.isnull().sum()"
   ]
  },
  {
   "cell_type": "code",
   "execution_count": 16,
   "metadata": {},
   "outputs": [],
   "source": [
    "# setting up X and y variable\n",
    "X = df['tweet']\n",
    "y = df['vol']"
   ]
  },
  {
   "cell_type": "code",
   "execution_count": 17,
   "metadata": {},
   "outputs": [],
   "source": [
    "# train test split\n",
    "X_train, X_test, y_train, y_test = train_test_split(X,\n",
    "                                                    y,\n",
    "                                                    test_size=0.33,\n",
    "                                                    random_state=29)"
   ]
  },
  {
   "cell_type": "code",
   "execution_count": 18,
   "metadata": {},
   "outputs": [],
   "source": [
    "# pipeline\n",
    "pipe = Pipeline([ \n",
    "    ('cvec', TfidfVectorizer(stop_words = 'english' )),\n",
    "    ('rf', (RandomForestClassifier()))  # setting up pipeline\n",
    "])"
   ]
  },
  {
   "cell_type": "code",
   "execution_count": 19,
   "metadata": {},
   "outputs": [],
   "source": [
    "# setting up parameters for grid search\n",
    "pipe_params = {\n",
    "    'cvec__max_features' : [4000], # pipe parameters\n",
    "    'cvec__min_df' : [2],\n",
    "    'cvec__max_df' : [0.9],\n",
    "    'cvec__ngram_range' : [(1,2), (1,3)],\n",
    "    #'lr__C' : [1, 10, 100],\n",
    "    #'lr__max_iter' : [1000]\n",
    "}"
   ]
  },
  {
   "cell_type": "code",
   "execution_count": 20,
   "metadata": {},
   "outputs": [],
   "source": [
    "# grid search\n",
    "gs = GridSearchCV(pipe,\n",
    "                  pipe_params, # setting up grid search\n",
    "                  cv = 5,\n",
    "                  n_jobs = 11)"
   ]
  },
  {
   "cell_type": "code",
   "execution_count": 21,
   "metadata": {},
   "outputs": [],
   "source": [
    "# fitting the model\n",
    "gs.fit(X_train, y_train); # fitting the model"
   ]
  },
  {
   "cell_type": "code",
   "execution_count": 22,
   "metadata": {},
   "outputs": [
    {
     "name": "stdout",
     "output_type": "stream",
     "text": [
      "Train score is 0.9312796208530806\n",
      "Test score is 0.8479794740218088\n",
      "Score diff is -0.08330014683127174\n"
     ]
    }
   ],
   "source": [
    "# getting the scores\n",
    "print(f'Train score is {gs.score(X_train, y_train)}') # scoring\n",
    "print(f'Test score is {gs.score(X_test, y_test)}')    # nice looks like there's no overfitting\n",
    "print(f'Score diff is {gs.score(X_test, y_test) - gs.score(X_train, y_train)}')"
   ]
  },
  {
   "cell_type": "code",
   "execution_count": 23,
   "metadata": {},
   "outputs": [
    {
     "data": {
      "text/plain": [
       "{'cvec__max_df': 0.9,\n",
       " 'cvec__max_features': 4000,\n",
       " 'cvec__min_df': 2,\n",
       " 'cvec__ngram_range': (1, 2)}"
      ]
     },
     "execution_count": 23,
     "metadata": {},
     "output_type": "execute_result"
    }
   ],
   "source": [
    "# what's the best parameters\n",
    "gs.best_params_"
   ]
  },
  {
   "cell_type": "code",
   "execution_count": 24,
   "metadata": {},
   "outputs": [
    {
     "data": {
      "text/html": [
       "<div>\n",
       "<style scoped>\n",
       "    .dataframe tbody tr th:only-of-type {\n",
       "        vertical-align: middle;\n",
       "    }\n",
       "\n",
       "    .dataframe tbody tr th {\n",
       "        vertical-align: top;\n",
       "    }\n",
       "\n",
       "    .dataframe thead th {\n",
       "        text-align: right;\n",
       "    }\n",
       "</style>\n",
       "<table border=\"1\" class=\"dataframe\">\n",
       "  <thead>\n",
       "    <tr style=\"text-align: right;\">\n",
       "      <th></th>\n",
       "      <th>predicted true</th>\n",
       "      <th>predicted false</th>\n",
       "    </tr>\n",
       "  </thead>\n",
       "  <tbody>\n",
       "    <tr>\n",
       "      <th>actual true</th>\n",
       "      <td>1322</td>\n",
       "      <td>206</td>\n",
       "    </tr>\n",
       "    <tr>\n",
       "      <th>actual false</th>\n",
       "      <td>268</td>\n",
       "      <td>1322</td>\n",
       "    </tr>\n",
       "  </tbody>\n",
       "</table>\n",
       "</div>"
      ],
      "text/plain": [
       "              predicted true  predicted false\n",
       "actual true             1322              206\n",
       "actual false             268             1322"
      ]
     },
     "execution_count": 24,
     "metadata": {},
     "output_type": "execute_result"
    }
   ],
   "source": [
    "# generating confusion matrix\n",
    "predict = gs.predict(X_test)\n",
    "confusion_matrix(y_test, predict)\n",
    "\n",
    "pd.DataFrame(confusion_matrix(y_test, predict), # confusion matrix\n",
    "             columns = ['predicted true', 'predicted false'],\n",
    "             index = ['actual true', 'actual false'])"
   ]
  },
  {
   "cell_type": "code",
   "execution_count": 25,
   "metadata": {},
   "outputs": [],
   "source": [
    "# prep to generating the ROC score\n",
    "predict = gs.predict(X_test)"
   ]
  },
  {
   "cell_type": "code",
   "execution_count": 26,
   "metadata": {},
   "outputs": [],
   "source": [
    "pred_proba = [i[1] for i in gs.predict_proba(X_test)] # taken from the lesson classificaiton metrics ii\n",
    "pred_df = pd.DataFrame({'true_values': y_test,  # because I honestly forgot how to do this all\n",
    "                        'pred_probs':pred_proba})"
   ]
  },
  {
   "cell_type": "code",
   "execution_count": 27,
   "metadata": {},
   "outputs": [
    {
     "data": {
      "text/plain": [
       "0.9285350604234581"
      ]
     },
     "execution_count": 27,
     "metadata": {},
     "output_type": "execute_result"
    }
   ],
   "source": [
    "# not too bad\n",
    "roc_auc_score(pred_df['true_values'], pred_df['pred_probs'])"
   ]
  },
  {
   "cell_type": "code",
   "execution_count": 28,
   "metadata": {},
   "outputs": [
    {
     "name": "stdout",
     "output_type": "stream",
     "text": [
      "              precision    recall  f1-score   support\n",
      "\n",
      "           0       0.83      0.87      0.85      1528\n",
      "           1       0.87      0.83      0.85      1590\n",
      "\n",
      "    accuracy                           0.85      3118\n",
      "   macro avg       0.85      0.85      0.85      3118\n",
      "weighted avg       0.85      0.85      0.85      3118\n",
      "\n"
     ]
    }
   ],
   "source": [
    "# classification report\n",
    "print(classification_report(y_test, predict))"
   ]
  },
  {
   "cell_type": "markdown",
   "metadata": {},
   "source": [
    "## Estimate Most Important Words"
   ]
  },
  {
   "cell_type": "code",
   "execution_count": 29,
   "metadata": {},
   "outputs": [],
   "source": [
    "# setting up best estimator\n",
    "cvec = gs.best_estimator_.named_steps['cvec']\n",
    "fi = gs.best_estimator_.named_steps['rf'].feature_importances_"
   ]
  },
  {
   "cell_type": "code",
   "execution_count": 30,
   "metadata": {},
   "outputs": [],
   "source": [
    "# prep for sparse dataframe\n",
    "X_train_raw = cvec.fit_transform(X_train)"
   ]
  },
  {
   "cell_type": "code",
   "execution_count": 31,
   "metadata": {},
   "outputs": [],
   "source": [
    "# sparse dataframe\n",
    "X_train_sp = pd.DataFrame.sparse.from_spmatrix(X_train_raw, columns=cvec.get_feature_names())"
   ]
  },
  {
   "cell_type": "code",
   "execution_count": 32,
   "metadata": {},
   "outputs": [],
   "source": [
    "# features dataframe\n",
    "features_df = pd.DataFrame(fi, X_train_sp.columns, columns = ['importance'])"
   ]
  },
  {
   "cell_type": "code",
   "execution_count": 33,
   "metadata": {},
   "outputs": [],
   "source": [
    "# plotting\n",
    "barplot = features_df.sort_values(by = 'importance', ascending = False).head(10)"
   ]
  },
  {
   "cell_type": "code",
   "execution_count": 34,
   "metadata": {},
   "outputs": [
    {
     "data": {
      "image/png": "[encoded data removed]",
      "text/plain": [
       "<Figure size 432x288 with 1 Axes>"
      ]
     },
     "metadata": {
      "needs_background": "light"
     },
     "output_type": "display_data"
    }
   ],
   "source": [
    "# most predicted words\n",
    "sns.barplot(y = barplot.index, x = barplot['importance'], orient = 'h', palette=\"rocket\")\n",
    "plt.xlabel('Feature Importance')\n",
    "plt.ylabel('Words')\n",
    "plt.title('Most Predictive Words');"
   ]
  }
 ],
 "metadata": {
  "kernelspec": {
   "display_name": "Python 3",
   "language": "python",
   "name": "python3"
  },
  "language_info": {
   "codemirror_mode": {
    "name": "ipython",
    "version": 3
   },
   "file_extension": ".py",
   "mimetype": "text/x-python",
   "name": "python",
   "nbconvert_exporter": "python",
   "pygments_lexer": "ipython3",
   "version": "3.7.4"
  }
 },
 "nbformat": 4,
 "nbformat_minor": 4
}
